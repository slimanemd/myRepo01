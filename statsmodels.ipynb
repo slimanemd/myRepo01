{
 "metadata": {
  "name": "statsmodels"
 },
 "nbformat": 3,
 "worksheets": [
  {
   "cells": [
    {
     "cell_type": "heading",
     "source": [
      "scikits.statsmodels notebook for AY250<br> ",
      "J. B. James, 13-Feb-2012, berian@berkeley.edu"
     ]
    },
    {
     "cell_type": "markdown",
     "source": [
      "**I. Regression (OLS)**"
     ]
    },
    {
     "cell_type": "markdown",
     "source": [
      "Import command. Note use of API request."
     ]
    },
    {
     "cell_type": "code",
     "collapsed": false,
     "input": [
      "import numpy as np",
      "import scikits.statsmodels.api as sm"
     ],
     "language": "python",
     "outputs": [],
     "prompt_number": 1
    },
    {
     "cell_type": "markdown",
     "source": [
      "Build a simple data set $y = a_1x^2 + a_2x + a_3 + \\epsilon$ with $\\epsilon\\sim N(0,1)$"
     ]
    },
    {
     "cell_type": "code",
     "collapsed": true,
     "input": [
      "npts = 100",
      "x = np.linspace(0,10, npts)"
     ],
     "language": "python",
     "outputs": [],
     "prompt_number": 2
    },
    {
     "cell_type": "code",
     "collapsed": false,
     "input": [
      "X = sm.add_constant(np.column_stack((x**2,x)),prepend=False)"
     ],
     "language": "python",
     "outputs": [],
     "prompt_number": 3
    },
    {
     "cell_type": "code",
     "collapsed": false,
     "input": [
      "beta = np.array([0.1, 1, 10])",
      "y = np.dot(X, beta) + np.random.normal(size=npts)"
     ],
     "language": "python",
     "outputs": [],
     "prompt_number": 4
    },
    {
     "cell_type": "code",
     "collapsed": false,
     "input": [
      "plot(x,y)"
     ],
     "language": "python",
     "outputs": [],
     "prompt_number": 5
    },
    {
     "cell_type": "markdown",
     "source": [
      "Now, fit the model for the coefficients"
     ]
    },
    {
     "cell_type": "code",
     "collapsed": true,
     "input": [
      "results = sm.OLS(y, X).fit()"
     ],
     "language": "python",
     "outputs": [],
     "prompt_number": 6
    },
    {
     "cell_type": "markdown",
     "source": [
      "Examine formatted summary of results"
     ]
    },
    {
     "cell_type": "code",
     "collapsed": false,
     "input": [
      "print results.summary()"
     ],
     "language": "python",
     "outputs": [],
     "prompt_number": 7
    },
    {
     "cell_type": "code",
     "collapsed": false,
     "input": [
      "plot(x,y,x,results.fittedvalues)"
     ],
     "language": "python",
     "outputs": [],
     "prompt_number": 8
    },
    {
     "cell_type": "code",
     "collapsed": false,
     "input": [
      "print results.params",
      "print results.normalized_cov_params"
     ],
     "language": "python",
     "outputs": [],
     "prompt_number": 9
    },
    {
     "cell_type": "code",
     "collapsed": false,
     "input": [
      "print results.__doc__"
     ],
     "language": "python",
     "outputs": [],
     "prompt_number": 10
    },
    {
     "cell_type": "markdown",
     "source": [
      "Trending and detrending"
     ]
    },
    {
     "cell_type": "code",
     "collapsed": false,
     "input": [
      "yp = sm.tsa.detrend(y,order=1)"
     ],
     "language": "python",
     "outputs": [],
     "prompt_number": 11
    },
    {
     "cell_type": "code",
     "collapsed": false,
     "input": [
      "plot(x,yp)"
     ],
     "language": "python",
     "outputs": [],
     "prompt_number": 12
    },
    {
     "cell_type": "markdown",
     "source": [
      "**II. Regression (WLS)**"
     ]
    },
    {
     "cell_type": "code",
     "collapsed": false,
     "input": [
      "w = 0.1*(101-x**2)",
      "y = np.dot(X, beta) + np.random.normal(scale=w,size=npts)",
      "plot(x,y)"
     ],
     "language": "python",
     "outputs": [],
     "prompt_number": 17
    },
    {
     "cell_type": "code",
     "collapsed": true,
     "input": [
      "ols_results = sm.OLS(y,X).fit()"
     ],
     "language": "python",
     "outputs": [],
     "prompt_number": 18
    },
    {
     "cell_type": "code",
     "collapsed": false,
     "input": [
      "wls_model = sm.WLS(y,X, weights=1./w**2)",
      "wls_results = wls_model.fit()",
      "wls_results.params"
     ],
     "language": "python",
     "outputs": [],
     "prompt_number": 19
    },
    {
     "cell_type": "code",
     "collapsed": false,
     "input": [
      "plot(x,y,x,ols_results.fittedvalues,x,wls_results.fittedvalues)"
     ],
     "language": "python",
     "outputs": [],
     "prompt_number": 20
    },
    {
     "cell_type": "code",
     "collapsed": false,
     "input": [
      "subplot(211)",
      "plot(x,wls_results.resid)",
      "subplot(212)",
      "plot(x,ols_results.resid)"
     ],
     "language": "python",
     "outputs": [],
     "prompt_number": 21
    },
    {
     "cell_type": "markdown",
     "source": [
      "**III. Rudimentary time-series analysis**"
     ]
    },
    {
     "cell_type": "code",
     "collapsed": true,
     "input": [
      "import scipy.io as sio",
      "EEG = sio.loadmat('eeglab_data.set',struct_as_record=True)"
     ],
     "language": "python",
     "outputs": [],
     "prompt_number": 22
    },
    {
     "cell_type": "markdown",
     "source": [
      "Build x-axis data"
     ]
    },
    {
     "cell_type": "code",
     "collapsed": false,
     "input": [
      "npts = (EEG['EEG'])['pnts']",
      "xmax = (EEG['EEG'])['xmax']",
      "t = linspace(0,xmax,npts)"
     ],
     "language": "python",
     "outputs": [],
     "prompt_number": 23
    },
    {
     "cell_type": "markdown",
     "source": [
      "Select channel"
     ]
    },
    {
     "cell_type": "code",
     "collapsed": false,
     "input": [
      "channels = (EEG['EEG'])['data'][0,0]",
      "y = channels[15,:]",
      "plot(y)"
     ],
     "language": "python",
     "outputs": [],
     "prompt_number": 24
    },
    {
     "cell_type": "markdown",
     "source": [
      "Take autocorrelation"
     ]
    },
    {
     "cell_type": "code",
     "collapsed": false,
     "input": [
      "acf = sm.tsa.acf(y)",
      "bar(range(41),acf,width=0.2)"
     ],
     "language": "python",
     "outputs": [],
     "prompt_number": 25
    },
    {
     "cell_type": "code",
     "collapsed": false,
     "input": [
      "acovf = sm.tsa.acovf(y)",
      "f = plot(acovf)"
     ],
     "language": "python",
     "outputs": [],
     "prompt_number": 26
    },
    {
     "cell_type": "code",
     "collapsed": false,
     "input": [
      "_ = acorr(y,maxlags=50)"
     ],
     "language": "python",
     "outputs": [],
     "prompt_number": 27
    },
    {
     "cell_type": "code",
     "collapsed": false,
     "input": [
      "Py = sm.tsa.periodogram(y)",
      "plot(Py)"
     ],
     "language": "python",
     "outputs": [],
     "prompt_number": 28
    },
    {
     "cell_type": "markdown",
     "source": [
      "**IV. Vector auto-regressive processes**",
      "",
      "Assume one has $T$ observations of $k$ variables. A vector auto-regressive process attempts to describe the relationship between the variables from their previous values, so that:",
      "",
      "$$\\mathbf{y}(t) = \\sum_{i=1}^{p} \\mathbf{A}_i \\mathbf{y}(t-i) + \\epsilon(\\mathbf{0},\\Sigma)$$",
      "",
      "where $\\epsilon$ is normally distributed and each $A_i$ is a $k\\times k$ matrix of coefficients for that time location. This can be expressed more concisely as the matrix equation:",
      "",
      "$$Y = BZ + U$$",
      "",
      "where $Y$ is $k\\times T$, $B$ is $pk\\times k$, and $Z$ and $U$ are $k\\times T$. The process solves for the coefficient matrix $B$ and its covariance:",
      "",
      "$$\\hat{B} = YZ'(ZZ')^{-1}$$",
      "$$ \\textbf{Cov}(\\hat{B}) = (ZZ')^{-1} \\otimes \\hat\\Sigma, \\textrm{ where } \\hat\\Sigma = \\frac{1}{T-kp-1}(Y-\\hat{B}Z)(Y-\\hat{B}Z)'$$"
     ]
    },
    {
     "cell_type": "markdown",
     "source": [
      "Let's load some macroeconomic data"
     ]
    },
    {
     "cell_type": "code",
     "collapsed": true,
     "input": [
      "mdata = sm.datasets.macrodata.load().data",
      "mdata = mdata[['realgdp','realcons','realinv']]",
      "names = mdata.dtype.names"
     ],
     "language": "python",
     "outputs": [],
     "prompt_number": 29
    },
    {
     "cell_type": "code",
     "collapsed": false,
     "input": [
      "data = mdata.view((float,3))",
      "sm.tsa.var.plotting.plot_mts(data)"
     ],
     "language": "python",
     "outputs": [],
     "prompt_number": 30
    },
    {
     "cell_type": "markdown",
     "source": [
      "*Technical point!* VAR processes work best for stationary data, so we should use a numerical differencing method to cast our input data into this form."
     ]
    },
    {
     "cell_type": "code",
     "collapsed": false,
     "input": [
      "data = np.diff(np.log(data), axis=0)",
      "sm.tsa.var.plotting.plot_mts(data)"
     ],
     "language": "python",
     "outputs": [],
     "prompt_number": 31
    },
    {
     "cell_type": "markdown",
     "source": [
      "Construct the model"
     ]
    },
    {
     "cell_type": "code",
     "collapsed": false,
     "input": [
      "model = sm.tsa.VAR(data)"
     ],
     "language": "python",
     "outputs": [],
     "prompt_number": 32
    },
    {
     "cell_type": "code",
     "collapsed": true,
     "input": [
      "lags = 10",
      "results = model.fit(lags)"
     ],
     "language": "python",
     "outputs": [],
     "prompt_number": 33
    },
    {
     "cell_type": "markdown",
     "source": [
      "Forecasting"
     ]
    },
    {
     "cell_type": "code",
     "collapsed": true,
     "input": [
      "#results = model.fit(maxlags=lags, ic='aic')",
      "nfore = 4",
      "lower, forecast, upper = results.forecast_interval(data, nfore)"
     ],
     "language": "python",
     "outputs": [],
     "prompt_number": 34
    },
    {
     "cell_type": "code",
     "collapsed": false,
     "input": [
      "sm.tsa.var.plotting.plot_var_forc(data,forecast,upper,lower)"
     ],
     "language": "python",
     "outputs": [],
     "prompt_number": 35
    },
    {
     "cell_type": "markdown",
     "source": [
      "See:",
      "http://en.wikipedia.org/wiki/Christopher_A._Sims<br>",
      "http://en.wikipedia.org/wiki/Nobel_prize_economics#Alternative_names"
     ]
    }
   ]
  }
 ]
}
